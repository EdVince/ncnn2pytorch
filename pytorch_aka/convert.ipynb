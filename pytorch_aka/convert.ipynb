{
 "cells": [
  {
   "cell_type": "code",
   "execution_count": null,
   "id": "a65aec7b",
   "metadata": {},
   "outputs": [],
   "source": [
    "import numpy as np\n",
    "import torch\n",
    "import os\n",
    "from torch import nn\n",
    "import torch.nn.functional as F\n",
    "from glob import glob"
   ]
  },
  {
   "cell_type": "code",
   "execution_count": null,
   "id": "52c19dec",
   "metadata": {},
   "outputs": [],
   "source": [
    "model_path = '../ncnn_aka/ncnn_aka/output'"
   ]
  },
  {
   "cell_type": "markdown",
   "id": "1035fe93",
   "metadata": {},
   "source": [
    "# 生成网络结构"
   ]
  },
  {
   "cell_type": "code",
   "execution_count": null,
   "id": "a9ec6439",
   "metadata": {},
   "outputs": [],
   "source": [
    "# get layer信息\n",
    "layers = {}\n",
    "bottoms = {}\n",
    "tops = {}\n",
    "param = {}\n",
    "index = {}\n",
    "layers_file = glob(model_path+'/*_*.txt')\n",
    "for layer in layers_file:\n",
    "    layer_type = layer.split('_')[-1][:-4]\n",
    "    layer_index = int(os.path.basename(layer).split('_')[0])\n",
    "    with open(layer, \"r\") as f:\n",
    "        layer_name = f.readline().strip('\\n')\n",
    "        layer_bottoms = f.readline().split(' ')[:-1]\n",
    "        layer_tops = f.readline().split(' ')[:-1]\n",
    "        layer_param = f.readline().strip('\\n')\n",
    "    bottoms[layer_name] = layer_bottoms\n",
    "    tops[layer_name] = layer_tops\n",
    "    layers[layer_name] = layer_type\n",
    "    param[layer_name] = layer_param\n",
    "    index[layer_index] = layer_name"
   ]
  },
  {
   "cell_type": "code",
   "execution_count": null,
   "id": "e66675c9",
   "metadata": {},
   "outputs": [],
   "source": [
    "# get network信息\n",
    "with open(model_path+'/network.txt', \"r\") as f:\n",
    "    all = f.readlines()\n",
    "    input_names = all[0].split(' ')[:-1]\n",
    "    output_names = [x.split(' ')[:-1] for x in all[1:]]"
   ]
  },
  {
   "cell_type": "code",
   "execution_count": null,
   "id": "07982ad9",
   "metadata": {},
   "outputs": [],
   "source": [
    "pre = \"        \"\n",
    "end = \"\\n\"\n",
    "code = \"\\\n",
    "from torch import nn\\n\\\n",
    "from utils import *\\n\\\n",
    "class fuck(nn.Module):\\n\\\n",
    "    def __init__(self):\\n\\\n",
    "        super(fuck, self).__init__()\\n\\\n",
    "\\n\\\n",
    "{}\\n\\\n",
    "\\n\\\n",
    "    def forward(self, {}):\\n\\\n",
    "{}\\n\\\n",
    "\\n\\\n",
    "{}\\n\\\n",
    "        return {}\""
   ]
  },
  {
   "cell_type": "code",
   "execution_count": null,
   "id": "1f3c1715",
   "metadata": {},
   "outputs": [],
   "source": [
    "fcode1 = ','.join(input_names)\n",
    "\n",
    "fcode2 = pre+\"blob_mat = {}\"+end\n",
    "for i in input_names:\n",
    "    fcode2 += pre+\"blob_mat[\\'\"+i+\"\\'] = \"+i\n",
    "\n",
    "fcode3 = \"\"\n",
    "for output1 in output_names:\n",
    "    output_blob = output1[0]\n",
    "    calculate_pipeline = output1[1:]\n",
    "    for l in calculate_pipeline:\n",
    "        f = layers[l]\n",
    "        i = ','.join(['blob_mat[\\''+x+'\\']' for x in bottoms[l]])\n",
    "        o = ','.join(['blob_mat[\\''+x+'\\']' for x in tops[l]])\n",
    "        fcode3 += pre+\"{} = {}({})\".format(o,\"self.layers_\"+l.replace('/','_'),i)+end\n",
    "    fcode3 += end\n",
    "        \n",
    "fcode4 = ','.join(['blob_mat[\\''+x[0]+'\\']' for x in output_names])"
   ]
  },
  {
   "cell_type": "code",
   "execution_count": null,
   "id": "5c6b9c87",
   "metadata": {},
   "outputs": [],
   "source": [
    "icode2 = \"\"\n",
    "for layer_name,layer_type in layers.items():\n",
    "    layer_param = param[layer_name]\n",
    "    icode2 += pre+\"self.layers_{} = {}(\\'{}\\')\".format(layer_name.replace('/','_'),layer_type,layer_param)+end"
   ]
  },
  {
   "cell_type": "code",
   "execution_count": null,
   "id": "643ec3c0",
   "metadata": {},
   "outputs": [],
   "source": [
    "f = open(\"fuck.py\", \"w\")\n",
    "print(code.format(icode2,fcode1,fcode2,fcode3,fcode4), file = f)\n",
    "f.close()"
   ]
  },
  {
   "cell_type": "markdown",
   "id": "ef47bc96",
   "metadata": {},
   "source": [
    "# 加载权重"
   ]
  },
  {
   "cell_type": "code",
   "execution_count": null,
   "id": "0e113930",
   "metadata": {},
   "outputs": [],
   "source": [
    "from fuck import *\n",
    "model = fuck()"
   ]
  },
  {
   "cell_type": "code",
   "execution_count": null,
   "id": "bf8380a4",
   "metadata": {},
   "outputs": [],
   "source": [
    "# 加载权重参数\n",
    "bin_files = glob(model_path+'/*_*_weight.bin')"
   ]
  },
  {
   "cell_type": "code",
   "execution_count": null,
   "id": "264cb555",
   "metadata": {},
   "outputs": [],
   "source": [
    "for bin_file in bin_files:\n",
    "    bin_file_name = os.path.basename(bin_file)\n",
    "    bin_index = int(bin_file_name.split('_')[0])\n",
    "    bin_layer_name = 'layers_'+index[bin_index].replace('/','_')\n",
    "    \n",
    "    if layers[index[bin_index]] == 'Convolution':\n",
    "        conv_layer = getattr(model,bin_layer_name)[0]\n",
    "        # 加载weight\n",
    "        w = np.fromfile(bin_file,dtype=np.float32)\n",
    "        w = w.reshape(conv_layer.out_channels,conv_layer.in_channels,*conv_layer.kernel_size)\n",
    "        w = nn.Parameter(data=torch.FloatTensor(w))\n",
    "        conv_layer.weight = w\n",
    "        # 加载bias\n",
    "        if conv_layer.bias is not None:\n",
    "            bias_bin_file_name = bin_file.replace('weight','bias')\n",
    "            b = np.fromfile(bias_bin_file_name,dtype=np.float32)\n",
    "            b = nn.Parameter(data=torch.FloatTensor(b))\n",
    "            conv_layer.bias = b"
   ]
  },
  {
   "cell_type": "code",
   "execution_count": null,
   "id": "525c4079",
   "metadata": {},
   "outputs": [],
   "source": [
    "torch.save(model.state_dict(),'fuck.pth')"
   ]
  },
  {
   "cell_type": "code",
   "execution_count": null,
   "id": "c30e6494",
   "metadata": {},
   "outputs": [],
   "source": [
    "torch.onnx.export(model,torch.rand(1,3,227,227),'fuck.onnx')"
   ]
  },
  {
   "cell_type": "code",
   "execution_count": null,
   "id": "5b084f79",
   "metadata": {},
   "outputs": [],
   "source": []
  }
 ],
 "metadata": {
  "kernelspec": {
   "display_name": "Python 3 (ipykernel)",
   "language": "python",
   "name": "python3"
  },
  "language_info": {
   "codemirror_mode": {
    "name": "ipython",
    "version": 3
   },
   "file_extension": ".py",
   "mimetype": "text/x-python",
   "name": "python",
   "nbconvert_exporter": "python",
   "pygments_lexer": "ipython3",
   "version": "3.7.9"
  }
 },
 "nbformat": 4,
 "nbformat_minor": 5
}
